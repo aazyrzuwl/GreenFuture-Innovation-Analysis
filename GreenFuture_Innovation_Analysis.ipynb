{
  "nbformat": 4,
  "nbformat_minor": 0,
  "metadata": {
    "colab": {
      "provenance": [],
      "authorship_tag": "ABX9TyPvVQxxCgHBqR1oizLmg76K",
      "include_colab_link": true
    },
    "kernelspec": {
      "name": "ir",
      "display_name": "R"
    },
    "language_info": {
      "name": "R"
    }
  },
  "cells": [
    {
      "cell_type": "markdown",
      "metadata": {
        "id": "view-in-github",
        "colab_type": "text"
      },
      "source": [
        "<a href=\"https://colab.research.google.com/github/aazyrzuwl/GreenFuture-Innovation-Analysis/blob/main/GreenFuture_Innovation_Analysis.ipynb\" target=\"_parent\"><img src=\"https://colab.research.google.com/assets/colab-badge.svg\" alt=\"Open In Colab\"/></a>"
      ]
    },
    {
      "cell_type": "code",
      "source": [
        "install.packages(\"readxl\")\n",
        "install.packages(\"sqldf\")\n",
        "install.packages(\"dplyr\")\n",
        "install.packages(\"ggplot2\")\n",
        "\n",
        "library(readxl)\n",
        "library(sqldf)\n",
        "library(dplyr)\n",
        "library(ggplot2)\n",
        "\n"
      ],
      "metadata": {
        "colab": {
          "base_uri": "https://localhost:8080/"
        },
        "id": "ITfLNhGged6O",
        "outputId": "26ac8441-1a83-4d71-c8d6-06f661c17757"
      },
      "execution_count": null,
      "outputs": [
        {
          "output_type": "stream",
          "name": "stderr",
          "text": [
            "Installing package into ‘/usr/local/lib/R/site-library’\n",
            "(as ‘lib’ is unspecified)\n",
            "\n",
            "Installing package into ‘/usr/local/lib/R/site-library’\n",
            "(as ‘lib’ is unspecified)\n",
            "\n",
            "also installing the dependencies ‘plogr’, ‘gsubfn’, ‘proto’, ‘RSQLite’, ‘chron’\n",
            "\n",
            "\n"
          ]
        }
      ]
    },
    {
      "cell_type": "code",
      "source": [
        "url <- \"https://github.com/aazyrzuwl/GreenFuture-Innovation-Analysis/raw/refs/heads/main/greenfuture_ideas_dataset.xlsx\"\n",
        "download.file(url, \"greenfuture_ideas_dataset.xlsx\", mode = \"wb\")\n",
        "df <- read_excel(\"greenfuture_ideas_dataset.xlsx\")\n",
        "head(df, 20)"
      ],
      "metadata": {
        "id": "3f2WlMV-g7uz"
      },
      "execution_count": null,
      "outputs": []
    },
    {
      "cell_type": "code",
      "source": [
        "sqldf(\"SELECT Department, COUNT(*) AS total_ideas FROM df GROUP BY Department\")"
      ],
      "metadata": {
        "id": "PUcW2TOjuH1G"
      },
      "execution_count": null,
      "outputs": []
    }
  ]
}