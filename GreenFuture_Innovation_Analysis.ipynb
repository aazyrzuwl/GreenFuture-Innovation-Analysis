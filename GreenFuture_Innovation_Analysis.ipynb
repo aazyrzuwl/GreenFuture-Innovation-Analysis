{
  "nbformat": 4,
  "nbformat_minor": 0,
  "metadata": {
    "colab": {
      "provenance": [],
      "authorship_tag": "ABX9TyPvVQxxCgHBqR1oizLmg76K",
      "include_colab_link": true
    },
    "kernelspec": {
      "name": "ir",
      "display_name": "R"
    },
    "language_info": {
      "name": "R"
    }
  },
  "cells": [
    {
      "cell_type": "markdown",
      "metadata": {
        "id": "view-in-github",
        "colab_type": "text"
      },
      "source": [
        "<a href=\"https://colab.research.google.com/github/aazyrzuwl/GreenFuture-Innovation-Analysis/blob/main/GreenFuture_Innovation_Analysis.ipynb\" target=\"_parent\"><img src=\"https://colab.research.google.com/assets/colab-badge.svg\" alt=\"Open In Colab\"/></a>"
      ]
    },
    {
      "cell_type": "code",
      "source": [
        "install.packages(\"readxl\")\n",
        "install.packages(\"sqldf\")\n",
        "install.packages(\"dplyr\")\n",
        "install.packages(\"ggplot2\")\n",
        "\n",
        "library(readxl)\n",
        "library(sqldf)\n",
        "library(dplyr)\n",
        "library(ggplot2)\n",
        "\n"
      ],
      "metadata": {
        "colab": {
          "base_uri": "https://localhost:8080/"
        },
        "id": "ITfLNhGged6O",
        "outputId": "d26556d1-7202-481d-e3eb-51f2ca430c17"
      },
      "execution_count": null,
      "outputs": [
        {
          "output_type": "stream",
          "name": "stderr",
          "text": [
            "Installing package into ‘/usr/local/lib/R/site-library’\n",
            "(as ‘lib’ is unspecified)\n",
            "\n",
            "Installing package into ‘/usr/local/lib/R/site-library’\n",
            "(as ‘lib’ is unspecified)\n",
            "\n",
            "also installing the dependencies ‘plogr’, ‘gsubfn’, ‘proto’, ‘RSQLite’, ‘chron’\n",
            "\n",
            "\n",
            "Installing package into ‘/usr/local/lib/R/site-library’\n",
            "(as ‘lib’ is unspecified)\n",
            "\n",
            "Installing package into ‘/usr/local/lib/R/site-library’\n",
            "(as ‘lib’ is unspecified)\n",
            "\n",
            "Loading required package: gsubfn\n",
            "\n",
            "Loading required package: proto\n",
            "\n",
            "Warning message:\n",
            "“no DISPLAY variable so Tk is not available”\n",
            "Loading required package: RSQLite\n",
            "\n",
            "\n",
            "Attaching package: ‘dplyr’\n",
            "\n",
            "\n",
            "The following objects are masked from ‘package:stats’:\n",
            "\n",
            "    filter, lag\n",
            "\n",
            "\n",
            "The following objects are masked from ‘package:base’:\n",
            "\n",
            "    intersect, setdiff, setequal, union\n",
            "\n",
            "\n"
          ]
        }
      ]
    },
    {
      "cell_type": "code",
      "source": [
        "url <- \"https://github.com/aazyrzuwl/GreenFuture-Innovation-Analysis/raw/refs/heads/main/greenfuture_ideas_dataset.xlsx\"\n",
        "download.file(url, \"greenfuture_ideas_dataset.xlsx\", mode = \"wb\")\n",
        "df <- read_excel(\"greenfuture_ideas_dataset.xlsx\")\n",
        "head(df, 20)"
      ],
      "metadata": {
        "colab": {
          "base_uri": "https://localhost:8080/",
          "height": 725
        },
        "id": "3f2WlMV-g7uz",
        "outputId": "5425fbd1-1f63-4887-cfb6-f82ad09beda5"
      },
      "execution_count": null,
      "outputs": [
        {
          "output_type": "display_data",
          "data": {
            "text/html": [
              "<table class=\"dataframe\">\n",
              "<caption>A tibble: 20 × 11</caption>\n",
              "<thead>\n",
              "\t<tr><th scope=col>Employee ID</th><th scope=col>Office Location</th><th scope=col>Department</th><th scope=col>Idea Submission Date</th><th scope=col>Idea Title</th><th scope=col>Idea Category</th><th scope=col>Number of Votes</th><th scope=col>Collaboration Status</th><th scope=col>Approval Status</th><th scope=col>Implementation Status</th><th scope=col>Security Concern Flag</th></tr>\n",
              "\t<tr><th scope=col>&lt;chr&gt;</th><th scope=col>&lt;chr&gt;</th><th scope=col>&lt;chr&gt;</th><th scope=col>&lt;chr&gt;</th><th scope=col>&lt;chr&gt;</th><th scope=col>&lt;chr&gt;</th><th scope=col>&lt;dbl&gt;</th><th scope=col>&lt;chr&gt;</th><th scope=col>&lt;chr&gt;</th><th scope=col>&lt;chr&gt;</th><th scope=col>&lt;chr&gt;</th></tr>\n",
              "</thead>\n",
              "<tbody>\n",
              "\t<tr><td>587b45d8</td><td>Germany     </td><td>Renewable Energy    </td><td>16/04/2024</td><td>Idea 1 </td><td>Sustainable Transport</td><td>231</td><td>Single Contributor </td><td>Pending </td><td>Not Started</td><td>No </td></tr>\n",
              "\t<tr><td>0d3e8b8e</td><td>Canada      </td><td>Renewable Energy    </td><td>14/01/2024</td><td>Idea 2 </td><td>Water Management     </td><td>477</td><td>Cross-Regional Team</td><td>Approved</td><td>In Progress</td><td>No </td></tr>\n",
              "\t<tr><td>fa012fe7</td><td>France      </td><td>Environmental Policy</td><td>45931     </td><td>Idea 3 </td><td>Renewable Energy     </td><td> 48</td><td>Cross-Regional Team</td><td>Approved</td><td>Not Started</td><td>Yes</td></tr>\n",
              "\t<tr><td>cb8ed680</td><td>Japan       </td><td>Technology          </td><td>24/12/2023</td><td>Idea 4 </td><td>Circular Economy     </td><td>330</td><td>Cross-Regional Team</td><td>Approved</td><td>Completed  </td><td>No </td></tr>\n",
              "\t<tr><td>333fff26</td><td>Australia   </td><td>Technology          </td><td>13/02/2025</td><td>Idea 5 </td><td>Circular Economy     </td><td>428</td><td>Single Contributor </td><td>Approved</td><td>Not Started</td><td>No </td></tr>\n",
              "\t<tr><td>a34ebb0f</td><td>India       </td><td>Technology          </td><td>45513     </td><td>Idea 6 </td><td>Circular Economy     </td><td>431</td><td>Single Contributor </td><td>Rejected</td><td>Not Started</td><td>No </td></tr>\n",
              "\t<tr><td>92f7e972</td><td>Mexico      </td><td>Infrastructure      </td><td>45483     </td><td>Idea 7 </td><td>Carbon Capture       </td><td> 38</td><td>Cross-Regional Team</td><td>Pending </td><td>Not Started</td><td>No </td></tr>\n",
              "\t<tr><td>d08d6bec</td><td>Mexico      </td><td>Environmental Policy</td><td>45355     </td><td>Idea 8 </td><td>Sustainable Transport</td><td> 10</td><td>Single Contributor </td><td>Pending </td><td>Not Started</td><td>No </td></tr>\n",
              "\t<tr><td>b6ed5ec1</td><td>Australia   </td><td>Environmental Policy</td><td>45023     </td><td>Idea 9 </td><td>Carbon Capture       </td><td>468</td><td>Single Contributor </td><td>Pending </td><td>Not Started</td><td>No </td></tr>\n",
              "\t<tr><td>e6c12406</td><td>Canada      </td><td>Research            </td><td>20/04/2024</td><td>Idea 10</td><td>Sustainable Transport</td><td>  0</td><td>Single Contributor </td><td>Pending </td><td>Not Started</td><td>No </td></tr>\n",
              "\t<tr><td>9dd9f6bb</td><td>South Africa</td><td>Infrastructure      </td><td>28/01/2024</td><td>Idea 11</td><td>Circular Economy     </td><td>436</td><td>Cross-Regional Team</td><td>Rejected</td><td>Not Started</td><td>Yes</td></tr>\n",
              "\t<tr><td>682f675b</td><td>South Africa</td><td>Urban Development   </td><td>45263     </td><td>Idea 12</td><td>Water Management     </td><td>194</td><td>Single Contributor </td><td>Pending </td><td>Not Started</td><td>No </td></tr>\n",
              "\t<tr><td>776e7872</td><td>Mexico      </td><td>Renewable Energy    </td><td>22/08/2023</td><td>Idea 13</td><td>Sustainable Transport</td><td> 19</td><td>Single Contributor </td><td>Pending </td><td>Not Started</td><td>No </td></tr>\n",
              "\t<tr><td>9d0dd7e0</td><td>France      </td><td>Environmental Policy</td><td>18/09/2024</td><td>Idea 14</td><td>Smart Cities         </td><td>443</td><td>Cross-Regional Team</td><td>Rejected</td><td>Not Started</td><td>No </td></tr>\n",
              "\t<tr><td>27febb2d</td><td>Brazil      </td><td>Technology          </td><td>17/05/2024</td><td>Idea 15</td><td>Sustainable Transport</td><td>425</td><td>Single Contributor </td><td>Approved</td><td>In Progress</td><td>No </td></tr>\n",
              "\t<tr><td>dcbf1bd1</td><td>China       </td><td>Technology          </td><td>16/11/2024</td><td>Idea 16</td><td>Smart Cities         </td><td>216</td><td>Cross-Regional Team</td><td>Rejected</td><td>Not Started</td><td>No </td></tr>\n",
              "\t<tr><td>018d372d</td><td>Germany     </td><td>Technology          </td><td>16/08/2024</td><td>Idea 17</td><td>Water Management     </td><td>  2</td><td>Cross-Regional Team</td><td>Approved</td><td>Completed  </td><td>No </td></tr>\n",
              "\t<tr><td>6aecf810</td><td>Australia   </td><td>Research            </td><td>44937     </td><td>Idea 18</td><td>Water Management     </td><td> 89</td><td>Cross-Regional Team</td><td>Pending </td><td>Not Started</td><td>No </td></tr>\n",
              "\t<tr><td>d7c38ae4</td><td>China       </td><td>Renewable Energy    </td><td>29/01/2024</td><td>Idea 19</td><td>Circular Economy     </td><td> 89</td><td>Cross-Regional Team</td><td>Pending </td><td>Not Started</td><td>No </td></tr>\n",
              "\t<tr><td>1fe47d3a</td><td>India       </td><td>Infrastructure      </td><td>45113     </td><td>Idea 20</td><td>Sustainable Transport</td><td>318</td><td>Single Contributor </td><td>Rejected</td><td>Not Started</td><td>No </td></tr>\n",
              "</tbody>\n",
              "</table>\n"
            ],
            "text/markdown": "\nA tibble: 20 × 11\n\n| Employee ID &lt;chr&gt; | Office Location &lt;chr&gt; | Department &lt;chr&gt; | Idea Submission Date &lt;chr&gt; | Idea Title &lt;chr&gt; | Idea Category &lt;chr&gt; | Number of Votes &lt;dbl&gt; | Collaboration Status &lt;chr&gt; | Approval Status &lt;chr&gt; | Implementation Status &lt;chr&gt; | Security Concern Flag &lt;chr&gt; |\n|---|---|---|---|---|---|---|---|---|---|---|\n| 587b45d8 | Germany      | Renewable Energy     | 16/04/2024 | Idea 1  | Sustainable Transport | 231 | Single Contributor  | Pending  | Not Started | No  |\n| 0d3e8b8e | Canada       | Renewable Energy     | 14/01/2024 | Idea 2  | Water Management      | 477 | Cross-Regional Team | Approved | In Progress | No  |\n| fa012fe7 | France       | Environmental Policy | 45931      | Idea 3  | Renewable Energy      |  48 | Cross-Regional Team | Approved | Not Started | Yes |\n| cb8ed680 | Japan        | Technology           | 24/12/2023 | Idea 4  | Circular Economy      | 330 | Cross-Regional Team | Approved | Completed   | No  |\n| 333fff26 | Australia    | Technology           | 13/02/2025 | Idea 5  | Circular Economy      | 428 | Single Contributor  | Approved | Not Started | No  |\n| a34ebb0f | India        | Technology           | 45513      | Idea 6  | Circular Economy      | 431 | Single Contributor  | Rejected | Not Started | No  |\n| 92f7e972 | Mexico       | Infrastructure       | 45483      | Idea 7  | Carbon Capture        |  38 | Cross-Regional Team | Pending  | Not Started | No  |\n| d08d6bec | Mexico       | Environmental Policy | 45355      | Idea 8  | Sustainable Transport |  10 | Single Contributor  | Pending  | Not Started | No  |\n| b6ed5ec1 | Australia    | Environmental Policy | 45023      | Idea 9  | Carbon Capture        | 468 | Single Contributor  | Pending  | Not Started | No  |\n| e6c12406 | Canada       | Research             | 20/04/2024 | Idea 10 | Sustainable Transport |   0 | Single Contributor  | Pending  | Not Started | No  |\n| 9dd9f6bb | South Africa | Infrastructure       | 28/01/2024 | Idea 11 | Circular Economy      | 436 | Cross-Regional Team | Rejected | Not Started | Yes |\n| 682f675b | South Africa | Urban Development    | 45263      | Idea 12 | Water Management      | 194 | Single Contributor  | Pending  | Not Started | No  |\n| 776e7872 | Mexico       | Renewable Energy     | 22/08/2023 | Idea 13 | Sustainable Transport |  19 | Single Contributor  | Pending  | Not Started | No  |\n| 9d0dd7e0 | France       | Environmental Policy | 18/09/2024 | Idea 14 | Smart Cities          | 443 | Cross-Regional Team | Rejected | Not Started | No  |\n| 27febb2d | Brazil       | Technology           | 17/05/2024 | Idea 15 | Sustainable Transport | 425 | Single Contributor  | Approved | In Progress | No  |\n| dcbf1bd1 | China        | Technology           | 16/11/2024 | Idea 16 | Smart Cities          | 216 | Cross-Regional Team | Rejected | Not Started | No  |\n| 018d372d | Germany      | Technology           | 16/08/2024 | Idea 17 | Water Management      |   2 | Cross-Regional Team | Approved | Completed   | No  |\n| 6aecf810 | Australia    | Research             | 44937      | Idea 18 | Water Management      |  89 | Cross-Regional Team | Pending  | Not Started | No  |\n| d7c38ae4 | China        | Renewable Energy     | 29/01/2024 | Idea 19 | Circular Economy      |  89 | Cross-Regional Team | Pending  | Not Started | No  |\n| 1fe47d3a | India        | Infrastructure       | 45113      | Idea 20 | Sustainable Transport | 318 | Single Contributor  | Rejected | Not Started | No  |\n\n",
            "text/latex": "A tibble: 20 × 11\n\\begin{tabular}{lllllllllll}\n Employee ID & Office Location & Department & Idea Submission Date & Idea Title & Idea Category & Number of Votes & Collaboration Status & Approval Status & Implementation Status & Security Concern Flag\\\\\n <chr> & <chr> & <chr> & <chr> & <chr> & <chr> & <dbl> & <chr> & <chr> & <chr> & <chr>\\\\\n\\hline\n\t 587b45d8 & Germany      & Renewable Energy     & 16/04/2024 & Idea 1  & Sustainable Transport & 231 & Single Contributor  & Pending  & Not Started & No \\\\\n\t 0d3e8b8e & Canada       & Renewable Energy     & 14/01/2024 & Idea 2  & Water Management      & 477 & Cross-Regional Team & Approved & In Progress & No \\\\\n\t fa012fe7 & France       & Environmental Policy & 45931      & Idea 3  & Renewable Energy      &  48 & Cross-Regional Team & Approved & Not Started & Yes\\\\\n\t cb8ed680 & Japan        & Technology           & 24/12/2023 & Idea 4  & Circular Economy      & 330 & Cross-Regional Team & Approved & Completed   & No \\\\\n\t 333fff26 & Australia    & Technology           & 13/02/2025 & Idea 5  & Circular Economy      & 428 & Single Contributor  & Approved & Not Started & No \\\\\n\t a34ebb0f & India        & Technology           & 45513      & Idea 6  & Circular Economy      & 431 & Single Contributor  & Rejected & Not Started & No \\\\\n\t 92f7e972 & Mexico       & Infrastructure       & 45483      & Idea 7  & Carbon Capture        &  38 & Cross-Regional Team & Pending  & Not Started & No \\\\\n\t d08d6bec & Mexico       & Environmental Policy & 45355      & Idea 8  & Sustainable Transport &  10 & Single Contributor  & Pending  & Not Started & No \\\\\n\t b6ed5ec1 & Australia    & Environmental Policy & 45023      & Idea 9  & Carbon Capture        & 468 & Single Contributor  & Pending  & Not Started & No \\\\\n\t e6c12406 & Canada       & Research             & 20/04/2024 & Idea 10 & Sustainable Transport &   0 & Single Contributor  & Pending  & Not Started & No \\\\\n\t 9dd9f6bb & South Africa & Infrastructure       & 28/01/2024 & Idea 11 & Circular Economy      & 436 & Cross-Regional Team & Rejected & Not Started & Yes\\\\\n\t 682f675b & South Africa & Urban Development    & 45263      & Idea 12 & Water Management      & 194 & Single Contributor  & Pending  & Not Started & No \\\\\n\t 776e7872 & Mexico       & Renewable Energy     & 22/08/2023 & Idea 13 & Sustainable Transport &  19 & Single Contributor  & Pending  & Not Started & No \\\\\n\t 9d0dd7e0 & France       & Environmental Policy & 18/09/2024 & Idea 14 & Smart Cities          & 443 & Cross-Regional Team & Rejected & Not Started & No \\\\\n\t 27febb2d & Brazil       & Technology           & 17/05/2024 & Idea 15 & Sustainable Transport & 425 & Single Contributor  & Approved & In Progress & No \\\\\n\t dcbf1bd1 & China        & Technology           & 16/11/2024 & Idea 16 & Smart Cities          & 216 & Cross-Regional Team & Rejected & Not Started & No \\\\\n\t 018d372d & Germany      & Technology           & 16/08/2024 & Idea 17 & Water Management      &   2 & Cross-Regional Team & Approved & Completed   & No \\\\\n\t 6aecf810 & Australia    & Research             & 44937      & Idea 18 & Water Management      &  89 & Cross-Regional Team & Pending  & Not Started & No \\\\\n\t d7c38ae4 & China        & Renewable Energy     & 29/01/2024 & Idea 19 & Circular Economy      &  89 & Cross-Regional Team & Pending  & Not Started & No \\\\\n\t 1fe47d3a & India        & Infrastructure       & 45113      & Idea 20 & Sustainable Transport & 318 & Single Contributor  & Rejected & Not Started & No \\\\\n\\end{tabular}\n",
            "text/plain": [
              "   Employee ID Office Location Department           Idea Submission Date\n",
              "1  587b45d8    Germany         Renewable Energy     16/04/2024          \n",
              "2  0d3e8b8e    Canada          Renewable Energy     14/01/2024          \n",
              "3  fa012fe7    France          Environmental Policy 45931               \n",
              "4  cb8ed680    Japan           Technology           24/12/2023          \n",
              "5  333fff26    Australia       Technology           13/02/2025          \n",
              "6  a34ebb0f    India           Technology           45513               \n",
              "7  92f7e972    Mexico          Infrastructure       45483               \n",
              "8  d08d6bec    Mexico          Environmental Policy 45355               \n",
              "9  b6ed5ec1    Australia       Environmental Policy 45023               \n",
              "10 e6c12406    Canada          Research             20/04/2024          \n",
              "11 9dd9f6bb    South Africa    Infrastructure       28/01/2024          \n",
              "12 682f675b    South Africa    Urban Development    45263               \n",
              "13 776e7872    Mexico          Renewable Energy     22/08/2023          \n",
              "14 9d0dd7e0    France          Environmental Policy 18/09/2024          \n",
              "15 27febb2d    Brazil          Technology           17/05/2024          \n",
              "16 dcbf1bd1    China           Technology           16/11/2024          \n",
              "17 018d372d    Germany         Technology           16/08/2024          \n",
              "18 6aecf810    Australia       Research             44937               \n",
              "19 d7c38ae4    China           Renewable Energy     29/01/2024          \n",
              "20 1fe47d3a    India           Infrastructure       45113               \n",
              "   Idea Title Idea Category         Number of Votes Collaboration Status\n",
              "1  Idea 1     Sustainable Transport 231             Single Contributor  \n",
              "2  Idea 2     Water Management      477             Cross-Regional Team \n",
              "3  Idea 3     Renewable Energy       48             Cross-Regional Team \n",
              "4  Idea 4     Circular Economy      330             Cross-Regional Team \n",
              "5  Idea 5     Circular Economy      428             Single Contributor  \n",
              "6  Idea 6     Circular Economy      431             Single Contributor  \n",
              "7  Idea 7     Carbon Capture         38             Cross-Regional Team \n",
              "8  Idea 8     Sustainable Transport  10             Single Contributor  \n",
              "9  Idea 9     Carbon Capture        468             Single Contributor  \n",
              "10 Idea 10    Sustainable Transport   0             Single Contributor  \n",
              "11 Idea 11    Circular Economy      436             Cross-Regional Team \n",
              "12 Idea 12    Water Management      194             Single Contributor  \n",
              "13 Idea 13    Sustainable Transport  19             Single Contributor  \n",
              "14 Idea 14    Smart Cities          443             Cross-Regional Team \n",
              "15 Idea 15    Sustainable Transport 425             Single Contributor  \n",
              "16 Idea 16    Smart Cities          216             Cross-Regional Team \n",
              "17 Idea 17    Water Management        2             Cross-Regional Team \n",
              "18 Idea 18    Water Management       89             Cross-Regional Team \n",
              "19 Idea 19    Circular Economy       89             Cross-Regional Team \n",
              "20 Idea 20    Sustainable Transport 318             Single Contributor  \n",
              "   Approval Status Implementation Status Security Concern Flag\n",
              "1  Pending         Not Started           No                   \n",
              "2  Approved        In Progress           No                   \n",
              "3  Approved        Not Started           Yes                  \n",
              "4  Approved        Completed             No                   \n",
              "5  Approved        Not Started           No                   \n",
              "6  Rejected        Not Started           No                   \n",
              "7  Pending         Not Started           No                   \n",
              "8  Pending         Not Started           No                   \n",
              "9  Pending         Not Started           No                   \n",
              "10 Pending         Not Started           No                   \n",
              "11 Rejected        Not Started           Yes                  \n",
              "12 Pending         Not Started           No                   \n",
              "13 Pending         Not Started           No                   \n",
              "14 Rejected        Not Started           No                   \n",
              "15 Approved        In Progress           No                   \n",
              "16 Rejected        Not Started           No                   \n",
              "17 Approved        Completed             No                   \n",
              "18 Pending         Not Started           No                   \n",
              "19 Pending         Not Started           No                   \n",
              "20 Rejected        Not Started           No                   "
            ]
          },
          "metadata": {}
        }
      ]
    },
    {
      "cell_type": "code",
      "source": [
        "sqldf(\"SELECT Department, COUNT(*) AS total_ideas FROM df GROUP BY Department\")"
      ],
      "metadata": {
        "id": "PUcW2TOjuH1G"
      },
      "execution_count": null,
      "outputs": []
    }
  ]
}